{
 "cells": [
  {
   "cell_type": "markdown",
   "metadata": {},
   "source": [
    "# U-NET FOR PARAMOS IN THE WORLD\n",
    "\n",
    "In this notebook we will use the U-Net architecture to segment the paramos in the world. "
   ]
  },
  {
   "cell_type": "code",
   "execution_count": null,
   "metadata": {},
   "outputs": [],
   "source": [
    "%load_ext autoreload\n",
    "%autoreload 2\n",
    "%load_ext autoreload"
   ]
  },
  {
   "cell_type": "markdown",
   "metadata": {},
   "source": [
    "### Cuda info "
   ]
  },
  {
   "cell_type": "code",
   "execution_count": null,
   "metadata": {},
   "outputs": [],
   "source": [
    "!nvidia-smi"
   ]
  },
  {
   "cell_type": "markdown",
   "metadata": {},
   "source": [
    "### Libraries"
   ]
  },
  {
   "cell_type": "code",
   "execution_count": null,
   "metadata": {},
   "outputs": [],
   "source": [
    "import sagemaker\n",
    "import os\n",
    "import boto3\n",
    "import sys\n",
    "sagemaker_session = sagemaker.Session()\n",
    "region = sagemaker_session.boto_region_name\n",
    "print(\"Region = {}\".format(region))"
   ]
  },
  {
   "cell_type": "markdown",
   "metadata": {},
   "source": [
    "## Import S3 bucket and Data Files"
   ]
  },
  {
   "cell_type": "code",
   "execution_count": null,
   "metadata": {},
   "outputs": [],
   "source": [
    "s3 = boto3.resource('s3')\n",
    "\n",
    "bucket_name = 'xxxxxxxxxxxxx'\n",
    "\n",
    "def download_s3_folders(bucket_name, prefixes):\n",
    "    bucket = s3.Bucket(bucket_name)\n",
    "    for prefix in prefixes:\n",
    "        for obj in bucket.objects.filter(Prefix=prefix):\n",
    "            destination_path = os.path.join('..', obj.key)\n",
    "            if not os.path.exists(os.path.dirname(destination_path)):\n",
    "                os.makedirs(os.path.dirname(destination_path))\n",
    "            bucket.download_file(obj.key, destination_path)\n",
    "\n",
    "download_s3_folders(bucket_name, ['config/', 'data/', 'packages/', 'models/'])"
   ]
  },
  {
   "cell_type": "code",
   "execution_count": null,
   "metadata": {},
   "outputs": [],
   "source": [
    "import sys\n",
    "import os\n",
    "sys.path.append(os.path.abspath(os.path.join(os.getcwd(), os.pardir)))\n",
    "import packages.utils.get_path as path\n",
    "import config.constants as const\n",
    "ABSOLUTE_PATH = path.make_path()"
   ]
  },
  {
   "cell_type": "code",
   "execution_count": null,
   "metadata": {},
   "outputs": [],
   "source": [
    "data_val_path = path.make_path(ABSOLUTE_PATH, const.DATA_DIR, const.PROCESSED_DIR, const.VALIDATION_DIR)\n",
    "normalized_path = path.make_path(ABSOLUTE_PATH, const.DATA_DIR, const.PROCESSED_DIR, const.NORMALIZATION_DIR)"
   ]
  },
  {
   "cell_type": "code",
   "execution_count": null,
   "metadata": {},
   "outputs": [],
   "source": [
    "import numpy as np\n",
    "\n",
    "eval_rgb_images = np.load(\"{}/{}\".format(data_val_path, const.VAL_RGB_NPY))\n",
    "eval_label_images = np.load(\"{}/{}\".format(data_val_path, const.VAL_LABEL_NPY))\n"
   ]
  },
  {
   "cell_type": "code",
   "execution_count": null,
   "metadata": {},
   "outputs": [],
   "source": [
    "eval_label_images = eval_label_images / 255.0\n",
    "eval_label_images = np.mean(eval_label_images, axis=-1, keepdims=True)\n",
    "eval_label_images = (eval_label_images > 0.5).astype(np.float32)"
   ]
  },
  {
   "cell_type": "code",
   "execution_count": null,
   "metadata": {},
   "outputs": [],
   "source": [
    "#Z-score normalization\n",
    "mean = np.load(\"{}/{}\".format(normalized_path, const.MEAN_NPY))\n",
    "std = np.load(\"{}/{}\".format(normalized_path, const.STD_NPY))\n",
    "\n",
    "eval_rgb_images = (eval_rgb_images - mean) / std"
   ]
  },
  {
   "cell_type": "code",
   "execution_count": null,
   "metadata": {},
   "outputs": [],
   "source": [
    "import tarfile\n",
    "tar = tarfile.open(ABSOLUTE_PATH + \"/models/model.tar.gz\", \"r:gz\")\n",
    "tar.extractall(path=ABSOLUTE_PATH + \"/models/\")\n",
    "tar.close()"
   ]
  },
  {
   "cell_type": "code",
   "execution_count": null,
   "metadata": {},
   "outputs": [],
   "source": [
    "from tensorflow.keras.models import load_model\n",
    "\n",
    "model = load_model(ABSOLUTE_PATH + f\"/models\")"
   ]
  },
  {
   "cell_type": "markdown",
   "metadata": {},
   "source": [
    "# UNET Model Inference"
   ]
  },
  {
   "cell_type": "code",
   "execution_count": null,
   "metadata": {},
   "outputs": [],
   "source": [
    "predictions = model.predict(eval_rgb_images)"
   ]
  },
  {
   "cell_type": "code",
   "execution_count": null,
   "metadata": {},
   "outputs": [],
   "source": [
    "from sklearn.metrics import classification_report\n",
    "import numpy as np\n",
    "\n",
    "# Flatten the arrays for sklearn\n",
    "true_labels = eval_label_images.flatten()\n",
    "predicted_labels = np.round(predictions).flatten()  # round predictions to 0 or 1\n",
    "\n",
    "print(classification_report(true_labels, predicted_labels))"
   ]
  },
  {
   "cell_type": "code",
   "execution_count": null,
   "metadata": {},
   "outputs": [],
   "source": [
    "predictions = prediction.predict(eval_rgb_images)"
   ]
  },
  {
   "cell_type": "code",
   "execution_count": null,
   "metadata": {},
   "outputs": [],
   "source": [
    "import matplotlib.pyplot as plt\n",
    "from IPython.display import display, HTML\n",
    "import random\n",
    "# random numer in eval_label_images  length\n",
    "index = random.randint(0, len(eval_label_images) - 1) #43 ,482, 596\n",
    "print(index)\n",
    "test_image = eval_rgb_images[index]\n",
    "true_label = eval_label_images[index]\n",
    "predicted_label = predictions[index]\n",
    "\n",
    "# Plot the test image and the masks\n",
    "fig, axes = plt.subplots(1, 3, figsize=(15, 5))\n",
    "axes[0].imshow(test_image)\n",
    "axes[0].set_title('Test Image')\n",
    "axes[1].imshow(true_label.squeeze(), cmap='gray')\n",
    "axes[1].set_title('True Label')\n",
    "axes[2].imshow(predicted_label.squeeze(), cmap='gray')\n",
    "axes[2].set_title('Predicted Label')\n",
    "\n",
    "html = \"\"\"\n",
    "<div style='text-align: center;'>\n",
    "    <div style='display: inline-block; padding: 10px; background-color: black; color: white; border-radius: 5px; margin: 5px; font-size: 15px; font-weight: bold; box-shadow: 0px 0px 10px rgba(0, 0, 0, 0.5); font-family: Arial, sans-serif;'>Black is 'paramo'</div>\n",
    "    <div style='display: inline-block; padding: 10px; background-color: white; color: black; border: 1px solid black; border-radius: 5px; margin: 5px; font-size: 15px; font-weight: bold; box-shadow: 0px 0px 10px rgba(0, 0, 0, 0.5); font-family: Arial, sans-serif;'>White is 'not paramo'</div>\n",
    "</div>\n",
    "\"\"\"\n",
    "\n",
    "# Display the HTML snippet\n",
    "display(HTML(html))\n",
    "plt.show()"
   ]
  },
  {
   "cell_type": "code",
   "execution_count": null,
   "metadata": {},
   "outputs": [],
   "source": [
    "from sagemaker.serverless import ServerlessInferenceConfig"
   ]
  },
  {
   "cell_type": "code",
   "execution_count": null,
   "metadata": {},
   "outputs": [],
   "source": [
    "serverless_config = ServerlessInferenceConfig(\n",
    "  memory_size_in_mb=1024,\n",
    "  max_concurrency=5,\n",
    ")"
   ]
  },
  {
   "cell_type": "code",
   "execution_count": null,
   "metadata": {},
   "outputs": [],
   "source": [
    "from sagemaker.serializers import NumpySerializer\n",
    "unet_deploy = model.deploy(endpoint_name='unet_endpoint_serverless',\n",
    "                           serverless_inference_config=serverless_config,\n",
    "                           serializer=NumpySerializer())"
   ]
  }
 ],
 "metadata": {
  "interpreter": {
   "hash": "da0733af7d5e633716952d6f8ccf7a258aa98b5642ab14678a50d16c8d42da41"
  },
  "kernelspec": {
   "display_name": "Python 3.8.5 64-bit ('base': conda)",
   "language": "python",
   "name": "python3"
  },
  "language_info": {
   "codemirror_mode": {
    "name": "ipython",
    "version": 3
   },
   "file_extension": ".py",
   "mimetype": "text/x-python",
   "name": "python",
   "nbconvert_exporter": "python",
   "pygments_lexer": "ipython3",
   "version": "3.11.0"
  },
  "orig_nbformat": 4
 },
 "nbformat": 4,
 "nbformat_minor": 2
}
