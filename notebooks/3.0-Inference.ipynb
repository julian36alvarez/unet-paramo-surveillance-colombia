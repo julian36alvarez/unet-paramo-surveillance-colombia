{
 "cells": [
  {
   "cell_type": "markdown",
   "metadata": {},
   "source": [
    "# U-NET FOR PARAMOS IN THE WORLD\n",
    "\n",
    "In this notebook we will use the U-Net architecture to segment the paramos in the world. "
   ]
  },
  {
   "cell_type": "code",
   "execution_count": null,
   "metadata": {},
   "outputs": [],
   "source": [
    "%load_ext autoreload\n",
    "%autoreload 2\n",
    "%load_ext autoreload"
   ]
  },
  {
   "cell_type": "markdown",
   "metadata": {},
   "source": [
    "### Cuda info "
   ]
  },
  {
   "cell_type": "code",
   "execution_count": null,
   "metadata": {},
   "outputs": [],
   "source": [
    "!nvidia-smi"
   ]
  },
  {
   "cell_type": "code",
   "execution_count": null,
   "metadata": {},
   "outputs": [],
   "source": [
    "\n",
    "import sagemaker\n",
    "import os\n",
    "import boto3\n",
    "import sys\n",
    "sagemaker_session = sagemaker.Session()\n",
    "region = sagemaker_session.boto_region_name\n",
    "print(\"Region = {}\".format(region))\n",
    "bucket = sagemaker_session.default_bucket('nombre-de-tu-bucket')\n",
    "role = sagemaker.get_execution_role()\n",
    "print(\"Role = {}\".format(role))\n",
    "\n",
    "sys.path.append(os.path.abspath(os.path.join(os.getcwd(), os.pardir)))\n",
    "import packages.utils.get_path as path\n",
    "import config.constants as const\n",
    "ABSOLUTE_PATH = path.make_path()"
   ]
  },
  {
   "cell_type": "code",
   "execution_count": null,
   "metadata": {},
   "outputs": [],
   "source": [
    "data_train_path = path.make_path(ABSOLUTE_PATH, const.DATA_DIR, const.PROCESSED_DIR, const.TRAIN_DIR)\n",
    "data_val_path = path.make_path(ABSOLUTE_PATH, const.DATA_DIR, const.PROCESSED_DIR, const.VALIDATION_DIR)\n",
    "data_eval_path = path.make_path(ABSOLUTE_PATH, const.DATA_DIR, const.PROCESSED_DIR, const.EVALUATION_DIR)\n",
    "normalized_path = path.make_path(ABSOLUTE_PATH, const.DATA_DIR, const.PROCESSED_DIR, const.NORMALIZATION_DIR)"
   ]
  },
  {
   "cell_type": "code",
   "execution_count": null,
   "metadata": {},
   "outputs": [],
   "source": [
    "import numpy as np\n",
    "\n",
    "train_rgb_images = np.load(\"{}/{}\".format(data_train_path, const.TRAIN_RGB_NPY))\n",
    "train_label_images = np.load(\"{}/{}\".format(data_train_path, const.TRAIN_LABEL_NPY))\n",
    "\n",
    "eval_rgb_images = np.load(\"{}/{}\".format(data_val_path, const.VAL_RGB_NPY))\n",
    "eval_label_images = np.load(\"{}/{}\".format(data_val_path, const.VAL_LABEL_NPY))\n",
    "\n",
    "val_rgb_images = np.load(\"{}/{}\".format(data_eval_path, const.EVAL_RGB_NPY))\n",
    "val_label_images = np.load(\"{}/{}\".format(data_eval_path, const.EVAL_LABEL_NPY))\n"
   ]
  },
  {
   "cell_type": "code",
   "execution_count": null,
   "metadata": {},
   "outputs": [],
   "source": [
    "\n",
    "#Z-score normalization\n",
    "mean = np.load(\"{}/{}\".format(normalized_path, const.MEAN_NPY))\n",
    "std = np.load(\"{}/{}\".format(normalized_path, const.STD_NPY))\n",
    "\n",
    "train_rgb_images = (train_rgb_images - mean) / std\n",
    "eval_rgb_images = (eval_rgb_images - mean) / std\n",
    "val_rgb_images = (val_rgb_images - mean) / std\n",
    "\n"
   ]
  },
  {
   "cell_type": "code",
   "execution_count": null,
   "metadata": {},
   "outputs": [],
   "source": [
    "# Normalize the masks using the same normalization as the images\n",
    "train_label_images = train_label_images / 255.0\n",
    "eval_label_images = eval_label_images / 255.0\n",
    "val_label_images = val_label_images / 255.0\n"
   ]
  },
  {
   "cell_type": "code",
   "execution_count": null,
   "metadata": {},
   "outputs": [],
   "source": [
    "# Convert labels to binary masks\n",
    "train_label_images = np.mean(train_label_images, axis=-1, keepdims=True)\n",
    "val_label_images = np.mean(val_label_images, axis=-1, keepdims=True)\n",
    "eval_label_images = np.mean(eval_label_images, axis=-1, keepdims=True)"
   ]
  },
  {
   "cell_type": "code",
   "execution_count": null,
   "metadata": {},
   "outputs": [],
   "source": [
    "\n",
    "# Ensure that the masks are binary (0 or 1)\n",
    "train_label_images = (train_label_images > 0.5).astype(np.float32)\n",
    "val_label_images = (val_label_images > 0.5).astype(np.float32)\n",
    "eval_label_images = (eval_label_images > 0.5).astype(np.float32)"
   ]
  },
  {
   "cell_type": "markdown",
   "metadata": {},
   "source": [
    "# UNET Model Inference"
   ]
  },
  {
   "cell_type": "code",
   "execution_count": null,
   "metadata": {},
   "outputs": [],
   "source": [
    "# use the model to predict on the test set \n",
    "\n",
    "predictions = model.predict(eval_rgb_images)\n"
   ]
  },
  {
   "cell_type": "code",
   "execution_count": null,
   "metadata": {},
   "outputs": [],
   "source": [
    "from sklearn.metrics import classification_report\n",
    "import numpy as np\n",
    "\n",
    "# Flatten the arrays for sklearn\n",
    "true_labels = eval_label_images.flatten()\n",
    "predicted_labels = np.round(predictions).flatten()  # round predictions to 0 or 1\n",
    "\n",
    "print(classification_report(true_labels, predicted_labels))"
   ]
  },
  {
   "cell_type": "code",
   "execution_count": null,
   "metadata": {},
   "outputs": [],
   "source": [
    "import matplotlib.pyplot as plt\n",
    "from IPython.display import display, HTML\n",
    "import random\n",
    "# random numer in eval_label_images  length\n",
    "index = random.randint(0, len(eval_label_images) - 1) #43 ,482, 596\n",
    "print(index)\n",
    "test_image = eval_rgb_images[index]\n",
    "true_label = eval_label_images[index]\n",
    "predicted_label = predictions[index]\n",
    "\n",
    "# Plot the test image and the masks\n",
    "fig, axes = plt.subplots(1, 3, figsize=(15, 5))\n",
    "axes[0].imshow(test_image)\n",
    "axes[0].set_title('Test Image')\n",
    "axes[1].imshow(true_label.squeeze(), cmap='gray')\n",
    "axes[1].set_title('True Label')\n",
    "axes[2].imshow(predicted_label.squeeze(), cmap='gray')\n",
    "axes[2].set_title('Predicted Label')\n",
    "\n",
    "html = \"\"\"\n",
    "<div style='text-align: center;'>\n",
    "    <div style='display: inline-block; padding: 10px; background-color: black; color: white; border-radius: 5px; margin: 5px; font-size: 15px; font-weight: bold; box-shadow: 0px 0px 10px rgba(0, 0, 0, 0.5); font-family: Arial, sans-serif;'>Black is 'paramo'</div>\n",
    "    <div style='display: inline-block; padding: 10px; background-color: white; color: black; border: 1px solid black; border-radius: 5px; margin: 5px; font-size: 15px; font-weight: bold; box-shadow: 0px 0px 10px rgba(0, 0, 0, 0.5); font-family: Arial, sans-serif;'>White is 'not paramo'</div>\n",
    "</div>\n",
    "\"\"\"\n",
    "\n",
    "# Display the HTML snippet\n",
    "display(HTML(html))\n",
    "plt.show()"
   ]
  }
 ],
 "metadata": {
  "interpreter": {
   "hash": "da0733af7d5e633716952d6f8ccf7a258aa98b5642ab14678a50d16c8d42da41"
  },
  "kernelspec": {
   "display_name": "Python 3.8.5 64-bit ('base': conda)",
   "language": "python",
   "name": "python3"
  },
  "language_info": {
   "codemirror_mode": {
    "name": "ipython",
    "version": 3
   },
   "file_extension": ".py",
   "mimetype": "text/x-python",
   "name": "python",
   "nbconvert_exporter": "python",
   "pygments_lexer": "ipython3",
   "version": "3.11.0"
  },
  "orig_nbformat": 4
 },
 "nbformat": 4,
 "nbformat_minor": 2
}
